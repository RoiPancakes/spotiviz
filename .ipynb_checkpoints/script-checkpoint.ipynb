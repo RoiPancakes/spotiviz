{
 "cells": [
  {
   "cell_type": "code",
   "execution_count": 1,
   "metadata": {},
   "outputs": [
    {
     "name": "stdout",
     "output_type": "stream",
     "text": [
      "736\n"
     ]
    }
   ],
   "source": [
    "import requests\n",
    "import time\n",
    "import json\n",
    "\n",
    "#username = \"Qcharton\"\n",
    "#username = \"Roipancakes\"\n",
    "username = \"Kiparte\"\n",
    "page = 1\n",
    "URL = \"http://ws.audioscrobbler.com/2.0/?method=user.getrecenttracks&user=\" + username + \"&api_key=9be74406d0a68902ed0d0d6ff90e7e33&format=json&fbclid=IwAR2GgbRVOeuks_Oz2f-Y5MUAAcWJUePIVXmlxQRI9a6EDyVGVPi43ELxVSg&limit=200&page=\"\n",
    "\n",
    "resp = requests.get(URL + str(page))\n",
    "total_pages = int(resp.json()['recenttracks']['@attr']['totalPages'])\n",
    "tracks = []\n",
    "\n",
    "for page in range(total_pages):\n",
    "    resp = requests.get(URL + str(page+1))\n",
    "    tracks += resp.json()['recenttracks']['track']\n",
    "\n",
    "print(len(tracks))"
   ]
  },
  {
   "cell_type": "code",
   "execution_count": 11,
   "metadata": {},
   "outputs": [
    {
     "name": "stdout",
     "output_type": "stream",
     "text": [
      "Durees ajoutees\n"
     ]
    }
   ],
   "source": [
    "#ajout des durées des tracks\n",
    "for t in tracks:\n",
    "    URL = \"http://ws.audioscrobbler.com/2.0/?method=track.getInfo&api_key=9be74406d0a68902ed0d0d6ff90e7e33&artist=\" + t[\"artist\"]['#text'] + \"&track=\" + t['name'] + \"&format=json\"\n",
    "    resp = requests.get(URL)\n",
    "    #si musique non trouvee ou duree = 0\n",
    "    if 'track' not in resp.json() or resp.json()['track']['duration'] == str(0):\n",
    "        t['duration'] = 230\n",
    "    else:\n",
    "        t['duration'] = int(resp.json()['track']['duration']) / 1000\n",
    "        \n",
    "print(\"Durees ajoutees\")"
   ]
  },
  {
   "cell_type": "code",
   "execution_count": null,
   "metadata": {},
   "outputs": [],
   "source": [
    "album = {}\n",
    "for t in tracks:\n",
    "    key = t['album']['#text']\n",
    "    if key in album:\n",
    "        if t['name'] in  album[key]['tracks']:\n",
    "            album[key]['tracks'][t['name']]['nb_ecoute'] += 1\n",
    "        else:\n",
    "            d = {\n",
    "               \"nb_ecoute\" : 1,\n",
    "                \"duration\" : 0 \n",
    "            }\n",
    "            album[key]['tracks'][t['name']] = d\n",
    "            album[key]['nb_ecoute_unique'] += 1\n",
    "        \n",
    "        album[key]['nb_ecoute_tot'] += 1\n",
    "    else:\n",
    "        album[key] = {\n",
    "            \"mbid\":t['album']['mbid'],\n",
    "            \"artiste\" : t['artist']['#text'],\n",
    "            \"tracks\": {\n",
    "                t['name'] : { \n",
    "                    \"nb_ecoute\" : 1,\n",
    "                    \"duration\" : 0\n",
    "                    }    \n",
    "            },\n",
    "            \"image\" : t['image'][3]['#text'],\n",
    "            \"nb_ecoute_tot\" : 1,\n",
    "            \"nb_ecoute_unique\" : 1,\n",
    "            #\"date\" : t['date']['uts'],\n",
    "            \"nb_tracks\" : 10\n",
    "        }\n",
    "\n",
    "print(len(album))"
   ]
  },
  {
   "cell_type": "code",
   "execution_count": 3,
   "metadata": {
    "scrolled": true
   },
   "outputs": [
    {
     "name": "stdout",
     "output_type": "stream",
     "text": [
      "['Chaos & Bliss']\n"
     ]
    }
   ],
   "source": [
    "import time\n",
    "\n",
    "keys_to_delete = []\n",
    "for key in album:\n",
    "    if album[key]['mbid'] != '':\n",
    "        url_album = \"http://ws.audioscrobbler.com/2.0/?method=album.getinfo&api_key=9be74406d0a68902ed0d0d6ff90e7e33&mbid=\"+str(album[key]['mbid'])+\"&format=json&autocorrect=1\"\n",
    "    else:\n",
    "        artist = album[key][\"artiste\"]\n",
    "        url_album = \"http://ws.audioscrobbler.com/2.0/?method=album.getinfo&api_key=9be74406d0a68902ed0d0d6ff90e7e33&artist=\"+artist+\"&album=\"+key+\"&format=json&autocorrect=1\"\n",
    "    resp = requests.get(url_album)\n",
    "    temp = resp.json()\n",
    "    if next(iter(temp.keys())) == \"error\":\n",
    "        artist = album[key][\"artiste\"]\n",
    "        url_album = \"http://ws.audioscrobbler.com/2.0/?method=album.getinfo&api_key=9be74406d0a68902ed0d0d6ff90e7e33&artist=\"+artist+\"&album=\"+key+\"&format=json&autocorrect=1\"\n",
    "        resp = requests.get(url_album)\n",
    "        temp = resp.json()\n",
    "    if next(iter(temp.keys())) == \"error\":\n",
    "        keys_to_delete.append(key)\n",
    "        print(keys_to_delete)\n",
    "    else:\n",
    "        album[key][\"nb_tracks\"] = len(next(iter(temp.values()))['tracks']['track'])\n",
    "        if album[key][\"nb_tracks\"] == 0:\n",
    "            album[key][\"nb_tracks\"] = 1\n",
    "        for t in next(iter(temp.values()))['tracks']['track']:\n",
    "            for ta in album[key]['tracks']:\n",
    "                if t['name'] == ta:\n",
    "                    album[key]['tracks'][ta]['duration'] = (int(t['duration']))\n",
    "        #print(album[key][\"nb_tracks\"],\" | \",url_album)\n",
    "        time.sleep(0.1)\n",
    "        \n",
    "\n",
    "while keys_to_delete != []:\n",
    "    del album[keys_to_delete.pop()]"
   ]
  },
  {
   "cell_type": "code",
   "execution_count": 4,
   "metadata": {},
   "outputs": [
    {
     "name": "stdout",
     "output_type": "stream",
     "text": [
      "{'mbid': '431e522e-7098-4a28-b250-82e6ab3e3785', 'artiste': 'Periphery', 'tracks': {'Reptile': {'nb_ecoute': 1, 'duration': 1004}}, 'image': 'https://lastfm.freetls.fastly.net/i/u/300x300/18546c9a43054ee6dec41671b8435f25.jpg', 'nb_ecoute_tot': 1, 'nb_ecoute_unique': 1, 'nb_tracks': 9}\n"
     ]
    }
   ],
   "source": [
    "print(album[\"Periphery IV: HAIL STAN\"])"
   ]
  },
  {
   "cell_type": "code",
   "execution_count": 5,
   "metadata": {},
   "outputs": [],
   "source": [
    "album_json = json.dumps(album)\n",
    "\n",
    "f = open(username+\"_processed.json\", \"w+\")\n",
    "f.write(album_json)\n",
    "f.close()"
   ]
  }
 ],
 "metadata": {
  "kernelspec": {
   "display_name": "Python 3",
   "language": "python",
   "name": "python3"
  },
  "language_info": {
   "codemirror_mode": {
    "name": "ipython",
    "version": 3
   },
   "file_extension": ".py",
   "mimetype": "text/x-python",
   "name": "python",
   "nbconvert_exporter": "python",
   "pygments_lexer": "ipython3",
   "version": "3.7.5"
  }
 },
 "nbformat": 4,
 "nbformat_minor": 2
}
