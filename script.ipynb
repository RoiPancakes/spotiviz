{
 "cells": [
  {
   "cell_type": "code",
   "execution_count": 25,
   "metadata": {},
   "outputs": [
    {
     "name": "stdout",
     "output_type": "stream",
     "text": [
      "223\n"
     ]
    }
   ],
   "source": [
    "import requests\n",
    "import time\n",
    "import json\n",
    "\n",
    "#username = \"Qcharton\"\n",
    "username = \"Roipancakes\"\n",
    "#username = \"Kiparte\"\n",
    "page = 1\n",
    "URL = \"http://ws.audioscrobbler.com/2.0/?method=user.getrecenttracks&user=\" + username + \"&api_key=9be74406d0a68902ed0d0d6ff90e7e33&format=json&fbclid=IwAR2GgbRVOeuks_Oz2f-Y5MUAAcWJUePIVXmlxQRI9a6EDyVGVPi43ELxVSg&limit=200&page=\"\n",
    "\n",
    "resp = requests.get(URL + str(page))\n",
    "total_pages = int(resp.json()['recenttracks']['@attr']['totalPages'])\n",
    "tracks = []\n",
    "\n",
    "#On récupère les tracks écoutées par l'utilisateur\n",
    "for page in range(total_pages):\n",
    "    resp = requests.get(URL + str(page+1))\n",
    "    tracks += resp.json()['recenttracks']['track']\n",
    "\n",
    "print(len(tracks))"
   ]
  },
  {
   "cell_type": "code",
   "execution_count": 26,
   "metadata": {},
   "outputs": [
    {
     "name": "stdout",
     "output_type": "stream",
     "text": [
      "112\n"
     ]
    }
   ],
   "source": [
    "album = {}\n",
    "for t in tracks:\n",
    "    key = t['album']['#text']\n",
    "    if key in album:\n",
    "        if t['name'] in  album[key]['tracks']:\n",
    "            album[key]['tracks'][t['name']]['nb_ecoute'] += 1\n",
    "        else:\n",
    "            d = {\n",
    "               \"nb_ecoute\" : 1,\n",
    "                \"duration\" : 0 \n",
    "            }\n",
    "            album[key]['tracks'][t['name']] = d\n",
    "            album[key]['nb_ecoute_unique'] += 1\n",
    "        \n",
    "        album[key]['nb_ecoute_tot'] += 1\n",
    "    else:\n",
    "        album[key] = {\n",
    "            \"mbid\":t['album']['mbid'],\n",
    "            \"artiste\" : t['artist']['#text'],\n",
    "            \"tracks\": {\n",
    "                t['name'] : { \n",
    "                    \"nb_ecoute\" : 1,\n",
    "                    \"duration\" : 0\n",
    "                    }    \n",
    "            },\n",
    "            \"image\" : t['image'][3]['#text'],\n",
    "            \"nb_ecoute_tot\" : 1,\n",
    "            \"nb_ecoute_unique\" : 1,\n",
    "            #\"date\" : t['date']['uts'],\n",
    "            \"nb_tracks\" : 10\n",
    "        }\n",
    "\n",
    "print(len(album))"
   ]
  },
  {
   "cell_type": "code",
   "execution_count": 27,
   "metadata": {
    "scrolled": true
   },
   "outputs": [
    {
     "name": "stdout",
     "output_type": "stream",
     "text": [
      "['Cat Platoon']\n",
      "['Cat Platoon', 'George Michael & Wham! Last Christmas: The Original Motion Picture Soundtrack']\n",
      "['Cat Platoon', 'George Michael & Wham! Last Christmas: The Original Motion Picture Soundtrack', 'Rooted & Grounded']\n",
      "['Cat Platoon', 'George Michael & Wham! Last Christmas: The Original Motion Picture Soundtrack', 'Rooted & Grounded', 'Facts & Fictions']\n",
      "['Cat Platoon', 'George Michael & Wham! Last Christmas: The Original Motion Picture Soundtrack', 'Rooted & Grounded', 'Facts & Fictions', 'Forgiveness I + II']\n",
      "['Cat Platoon', 'George Michael & Wham! Last Christmas: The Original Motion Picture Soundtrack', 'Rooted & Grounded', 'Facts & Fictions', 'Forgiveness I + II', 'La vie de rêve']\n"
     ]
    }
   ],
   "source": [
    "import time\n",
    "\n",
    "#liste regroupant les albums posant problème, on les supprime à la fin du traitement\n",
    "keys_to_delete = []\n",
    "\n",
    "#On parcours les albums écoutés pour récupérer les données avec LastFM\n",
    "for key in album:\n",
    "    #Si l'album a un mbid on récupère les données de ses tracks grâce au mbid\n",
    "    if album[key]['mbid'] != '':\n",
    "        url_album = \"http://ws.audioscrobbler.com/2.0/?method=album.getinfo&api_key=9be74406d0a68902ed0d0d6ff90e7e33&mbid=\"+str(album[key]['mbid'])+\"&format=json&autocorrect=1\"\n",
    "    #Sinon on récupère les données grâce aux noms d'album et d'artiste\n",
    "    else:\n",
    "        artist = album[key][\"artiste\"]\n",
    "        url_album = \"http://ws.audioscrobbler.com/2.0/?method=album.getinfo&api_key=9be74406d0a68902ed0d0d6ff90e7e33&artist=\"+artist+\"&album=\"+key+\"&format=json&autocorrect=1\"\n",
    "    resp = requests.get(url_album)\n",
    "    temp = resp.json()\n",
    "    \n",
    "    #Si une requête d'album pose problème en renvoyant \"error\" (souvent avec le mbid), on retente avec le nom de l'artiste et de l'album\n",
    "    if next(iter(temp.keys())) == \"error\":\n",
    "        artist = album[key][\"artiste\"]\n",
    "        url_album = \"http://ws.audioscrobbler.com/2.0/?method=album.getinfo&api_key=9be74406d0a68902ed0d0d6ff90e7e33&artist=\"+artist+\"&album=\"+key+\"&format=json&autocorrect=1\"\n",
    "        resp = requests.get(url_album)\n",
    "        temp = resp.json()\n",
    "    #Si l'erreur persiste, on ajoute l'album à la liste des albums à effacer\n",
    "    if next(iter(temp.keys())) == \"error\":\n",
    "        keys_to_delete.append(key)\n",
    "        print(keys_to_delete)\n",
    "    else:\n",
    "        album[key][\"nb_tracks\"] = len(next(iter(temp.values()))['tracks']['track'])\n",
    "        \n",
    "        #Si le nombre de track n'est pas spécifié c'est qu'il s'agit d'un single\n",
    "        if album[key][\"nb_tracks\"] == 0:\n",
    "            album[key][\"nb_tracks\"] = 1\n",
    "\n",
    "        duree_album = 0\n",
    "        duree_ecoute = 0\n",
    "        #On parcours toutes les tracks t de l'album sur LastFM\n",
    "        for t in next(iter(temp.values()))['tracks']['track']:\n",
    "            \n",
    "            #Si la track n'a pas de durée définie, on lui donne la durée moyenne des tracks en 2019\n",
    "            if int(t['duration']) != 0 :\n",
    "                d_temp = int(t['duration'])\n",
    "            else:\n",
    "                d_temp = 230\n",
    "            \n",
    "            #On parcourt les tracks ta écoutés par l'utilisateur\n",
    "            for ta in album[key]['tracks']:\n",
    "                #si la track a été écoutée, on mets à jour la durée de la track et de l'écoute de l'album\n",
    "                if t['name'] == ta:\n",
    "                    duree_ecoute += d_temp * album[key]['tracks'][ta]['nb_ecoute']\n",
    "                    album[key]['tracks'][ta]['duration'] = d_temp\n",
    "\n",
    "            duree_album += d_temp\n",
    "        #print(album[key][\"nb_tracks\"],\" | \",url_album)\n",
    "        album[key]['album_duration'] = duree_album\n",
    "        album[key]['ecoute_duration'] = duree_ecoute\n",
    "        time.sleep(0.1)\n",
    "        \n",
    "#Suppression des albums problématiques\n",
    "while keys_to_delete != []:\n",
    "    del album[keys_to_delete.pop()]"
   ]
  },
  {
   "cell_type": "code",
   "execution_count": 21,
   "metadata": {},
   "outputs": [
    {
     "name": "stdout",
     "output_type": "stream",
     "text": [
      "88\n"
     ]
    }
   ],
   "source": [
    "#ajout des emissions de co2\n",
    "\n",
    "for key in album:\n",
    "    if album[key]['ecoute_duration'] == 0 or album[key]['album_duration'] == 0:\n",
    "        keys_to_delete.append(key)\n",
    "    else:\n",
    "        album[key]['co2_spotify'] = album[key]['ecoute_duration'] * 0.14\n",
    "        album[key]['co2_demat'] = album[key]['album_duration'] * 0.14\n",
    "        album[key]['co2_cd'] = 167\n",
    "        \n",
    "#on supprime tous ceux pour qui on n'a pas d'infos\n",
    "while keys_to_delete != []:\n",
    "    del album[keys_to_delete.pop()]\n",
    "    \n",
    "print(len(album))"
   ]
  },
  {
   "cell_type": "code",
   "execution_count": 22,
   "metadata": {},
   "outputs": [],
   "source": [
    "album_json = json.dumps(album)\n",
    "\n",
    "f = open(username+\"_processed.json\", \"w+\")\n",
    "f.write(album_json)\n",
    "f.close()"
   ]
  },
  {
   "cell_type": "code",
   "execution_count": null,
   "metadata": {},
   "outputs": [],
   "source": []
  }
 ],
 "metadata": {
  "kernelspec": {
   "display_name": "Python 3",
   "language": "python",
   "name": "python3"
  },
  "language_info": {
   "codemirror_mode": {
    "name": "ipython",
    "version": 3
   },
   "file_extension": ".py",
   "mimetype": "text/x-python",
   "name": "python",
   "nbconvert_exporter": "python",
   "pygments_lexer": "ipython3",
   "version": "3.7.5"
  }
 },
 "nbformat": 4,
 "nbformat_minor": 2
}
