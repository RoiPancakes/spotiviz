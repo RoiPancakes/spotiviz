{
 "cells": [
  {
   "cell_type": "code",
   "execution_count": 22,
   "metadata": {},
   "outputs": [
    {
     "name": "stdout",
     "output_type": "stream",
     "text": [
      "472\n"
     ]
    }
   ],
   "source": [
    "import requests\n",
    "import time\n",
    "import json\n",
    "\n",
    "#username = \"Qcharton\"\n",
    "#username = \"Roipancakes\"\n",
    "#username = \"Kiparte\"\n",
    "username = \"Fonb\"\n",
    "page = 1\n",
    "URL = \"http://ws.audioscrobbler.com/2.0/?method=user.getrecenttracks&user=\" + username + \"&api_key=9be74406d0a68902ed0d0d6ff90e7e33&format=json&fbclid=IwAR2GgbRVOeuks_Oz2f-Y5MUAAcWJUePIVXmlxQRI9a6EDyVGVPi43ELxVSg&limit=200&page=\"\n",
    "\n",
    "resp = requests.get(URL + str(page))\n",
    "total_pages = int(resp.json()['recenttracks']['@attr']['totalPages'])\n",
    "tracks = []\n",
    "\n",
    "#On récupère les tracks écoutées par l'utilisateur\n",
    "for page in range(total_pages):\n",
    "    resp = requests.get(URL + str(page+1))\n",
    "    tracks += resp.json()['recenttracks']['track']\n",
    "\n",
    "print(len(tracks))"
   ]
  },
  {
   "cell_type": "code",
   "execution_count": 23,
   "metadata": {},
   "outputs": [
    {
     "name": "stdout",
     "output_type": "stream",
     "text": [
      "83\n"
     ]
    }
   ],
   "source": [
    "album = {}\n",
    "for t in tracks:\n",
    "    key = t['album']['#text']\n",
    "    if key in album:\n",
    "        if t['name'] in  album[key]['tracks']:\n",
    "            album[key]['tracks'][t['name']]['nb_ecoute'] += 1\n",
    "        else:\n",
    "            d = {\n",
    "               \"nb_ecoute\" : 1,\n",
    "                \"duration\" : 0 \n",
    "            }\n",
    "            album[key]['tracks'][t['name']] = d\n",
    "            album[key]['nb_ecoute_unique'] += 1\n",
    "        \n",
    "        album[key]['nb_ecoute_tot'] += 1\n",
    "    else:\n",
    "        album[key] = {\n",
    "            \"mbid\":t['album']['mbid'],\n",
    "            \"artiste\" : t['artist']['#text'],\n",
    "            \"tracks\": {\n",
    "                t['name'] : { \n",
    "                    \"nb_ecoute\" : 1,\n",
    "                    \"duration\" : 0\n",
    "                    }    \n",
    "            },\n",
    "            \"image\" : t['image'][3]['#text'],\n",
    "            \"nb_ecoute_tot\" : 1,\n",
    "            \"nb_ecoute_unique\" : 1,\n",
    "            #\"date\" : t['date']['uts'],\n",
    "            \"nb_tracks\" : 10\n",
    "        }\n",
    "\n",
    "print(len(album))"
   ]
  },
  {
   "cell_type": "code",
   "execution_count": 24,
   "metadata": {
    "scrolled": true
   },
   "outputs": [],
   "source": [
    "import time\n",
    "\n",
    "#liste regroupant les albums posant problème, on les supprime à la fin du traitement\n",
    "keys_to_delete = []\n",
    "\n",
    "#On parcours les albums écoutés pour récupérer les données avec LastFM\n",
    "for key in album:\n",
    "    #Si l'album a un mbid on récupère les données de ses tracks grâce au mbid\n",
    "    if album[key]['mbid'] != '':\n",
    "        url_album = \"http://ws.audioscrobbler.com/2.0/?method=album.getinfo&api_key=9be74406d0a68902ed0d0d6ff90e7e33&mbid=\"+str(album[key]['mbid'])+\"&format=json&autocorrect=1\"\n",
    "    #Sinon on récupère les données grâce aux noms d'album et d'artiste\n",
    "    else:\n",
    "        artist = album[key][\"artiste\"]\n",
    "        url_album = \"http://ws.audioscrobbler.com/2.0/?method=album.getinfo&api_key=9be74406d0a68902ed0d0d6ff90e7e33&artist=\"+artist+\"&album=\"+key+\"&format=json&autocorrect=1\"\n",
    "    resp = requests.get(url_album)\n",
    "    try:\n",
    "        temp = resp.json()\n",
    "    except ValueError:\n",
    "        keys_to_delete.append(key)\n",
    "        continue\n",
    "    \n",
    "    #Si une requête d'album pose problème en renvoyant \"error\" (souvent avec le mbid), on retente avec le nom de l'artiste et de l'album\n",
    "    if next(iter(temp.keys())) == \"error\":\n",
    "        artist = album[key][\"artiste\"]\n",
    "        url_album = \"http://ws.audioscrobbler.com/2.0/?method=album.getinfo&api_key=9be74406d0a68902ed0d0d6ff90e7e33&artist=\"+artist+\"&album=\"+key+\"&format=json&autocorrect=1\"\n",
    "        resp = requests.get(url_album)\n",
    "        temp = resp.json()\n",
    "    #Si l'erreur persiste, on ajoute l'album à la liste des albums à effacer\n",
    "    if next(iter(temp.keys())) == \"error\":\n",
    "        keys_to_delete.append(key)\n",
    "    else:\n",
    "        album[key][\"nb_tracks\"] = len(next(iter(temp.values()))['tracks']['track'])\n",
    "        \n",
    "        #Si le nombre de track n'est pas spécifié c'est qu'il s'agit d'un single\n",
    "        if album[key][\"nb_tracks\"] == 0:\n",
    "            album[key][\"nb_tracks\"] = 1\n",
    "\n",
    "        duree_album = 0\n",
    "        duree_ecoute = 0\n",
    "        #On parcours toutes les tracks t de l'album sur LastFM\n",
    "        for t in next(iter(temp.values()))['tracks']['track']:\n",
    "            \n",
    "            #Si la track n'a pas de durée définie, on lui donne la durée moyenne des tracks en 2019\n",
    "            if int(t['duration']) != 0 :\n",
    "                d_temp = int(t['duration'])\n",
    "            else:\n",
    "                d_temp = 230\n",
    "            \n",
    "            #On parcourt les tracks ta écoutés par l'utilisateur\n",
    "            for ta in album[key]['tracks']:\n",
    "                #si la track a été écoutée, on mets à jour la durée de la track et de l'écoute de l'album\n",
    "                if t['name'] == ta:\n",
    "                    duree_ecoute += d_temp * album[key]['tracks'][ta]['nb_ecoute']\n",
    "                    album[key]['tracks'][ta]['duration'] = d_temp\n",
    "\n",
    "            duree_album += d_temp\n",
    "        #print(album[key][\"nb_tracks\"],\" | \",url_album)\n",
    "        album[key]['album_duration'] = duree_album\n",
    "        album[key]['ecoute_duration'] = duree_ecoute\n",
    "        time.sleep(0.1)\n",
    "        \n",
    "#Suppression des albums problématiques\n",
    "while keys_to_delete != []:\n",
    "    del album[keys_to_delete.pop()]"
   ]
  },
  {
   "cell_type": "code",
   "execution_count": 25,
   "metadata": {},
   "outputs": [
    {
     "name": "stdout",
     "output_type": "stream",
     "text": [
      "49\n"
     ]
    }
   ],
   "source": [
    "#ajout des emissions de co2\n",
    "\n",
    "for key in album:\n",
    "    if album[key]['ecoute_duration'] == 0 or album[key]['album_duration'] == 0:\n",
    "        keys_to_delete.append(key)\n",
    "    else:\n",
    "        album[key]['co2_spotify'] = (album[key]['ecoute_duration'] * 0.14) / 60\n",
    "        album[key]['co2_demat'] = (album[key]['album_duration'] * 0.14) / 60\n",
    "        album[key]['co2_cd'] = 167\n",
    "        \n",
    "#on supprime tous ceux pour qui on n'a pas d'infos\n",
    "while keys_to_delete != []:\n",
    "    del album[keys_to_delete.pop()]\n",
    "    \n",
    "print(len(album))"
   ]
  },
  {
   "cell_type": "code",
   "execution_count": 26,
   "metadata": {},
   "outputs": [
    {
     "name": "stdout",
     "output_type": "stream",
     "text": [
      "['Monument', {'mbid': '9a906705-4afd-46a8-b47c-74f4bfc50e52', 'artiste': 'Alkpote', 'tracks': {'Jamais (feat. Roméo Elvis)': {'nb_ecoute': 1, 'duration': 0}, 'Aigle': {'nb_ecoute': 1, 'duration': 197}}, 'image': 'https://lastfm.freetls.fastly.net/i/u/300x300/94ca2dfc4d2b47ab6f699bd816572b15.jpg', 'nb_ecoute_tot': 2, 'nb_ecoute_unique': 2, 'nb_tracks': 16, 'album_duration': 3380, 'ecoute_duration': 197, 'co2_spotify': 0.4596666666666667, 'co2_demat': 7.886666666666668, 'co2_cd': 167}]\n",
      "['OMEGA', {'mbid': 'e04452c2-744b-47e9-902f-51a2bf2d052b', 'artiste': 'Oboy', 'tracks': {'R10': {'nb_ecoute': 1, 'duration': 177}}, 'image': 'https://lastfm.freetls.fastly.net/i/u/300x300/0e3fb465882f91d5167b5967353ba483.jpg', 'nb_ecoute_tot': 1, 'nb_ecoute_unique': 1, 'nb_tracks': 15, 'album_duration': 2737, 'ecoute_duration': 177, 'co2_spotify': 0.41300000000000003, 'co2_demat': 6.386333333333335, 'co2_cd': 167}]\n",
      "['Astronaute', {'mbid': '', 'artiste': \"An'Om\", 'tracks': {'Astronaute': {'nb_ecoute': 25, 'duration': 438}}, 'image': 'https://lastfm.freetls.fastly.net/i/u/300x300/2a96cbd8b46e442fc41c2b86b821562f.png', 'nb_ecoute_tot': 25, 'nb_ecoute_unique': 1, 'nb_tracks': 1, 'album_duration': 438, 'ecoute_duration': 10950, 'co2_spotify': 25.550000000000004, 'co2_demat': 1.022, 'co2_cd': 167}]\n",
      "['Paradise', {'mbid': '456e55b8-595f-4327-a81e-8d1d13c9680c', 'artiste': 'Hamza', 'tracks': {'Deep inside': {'nb_ecoute': 1, 'duration': 183}, 'Audemars Shit': {'nb_ecoute': 2, 'duration': 219}, 'Sometimes': {'nb_ecoute': 2, 'duration': 237}, 'HS (feat. SCH)': {'nb_ecoute': 3, 'duration': 213}, 'Validé': {'nb_ecoute': 1, 'duration': 200}, 'Paradise': {'nb_ecoute': 3, 'duration': 211}, 'Le même sort': {'nb_ecoute': 1, 'duration': 118}, 'Minuit 13 (feat. Christine and the Queens & Oxmo Puccino)': {'nb_ecoute': 7, 'duration': 312}, 'Dale x Love Therapy (feat. Aya Nakamura)': {'nb_ecoute': 1, 'duration': 326}}, 'image': 'https://lastfm.freetls.fastly.net/i/u/300x300/db3fcb656c565e62a509b8566348d7bc.jpg', 'nb_ecoute_tot': 21, 'nb_ecoute_unique': 9, 'nb_tracks': 17, 'album_duration': 3542, 'ecoute_duration': 5195, 'co2_spotify': 12.121666666666668, 'co2_demat': 8.264666666666667, 'co2_cd': 167}]\n",
      "[\"Même les monstres rêvent d'amour\", {'mbid': '', 'artiste': 'Tsew The Kid', 'tracks': {\"Même les monstres rêvent d'amour\": {'nb_ecoute': 34, 'duration': 234}}, 'image': 'https://lastfm.freetls.fastly.net/i/u/300x300/4bca536be6229394770c1b6ef8b5d894.jpg', 'nb_ecoute_tot': 34, 'nb_ecoute_unique': 1, 'nb_tracks': 1, 'album_duration': 234, 'ecoute_duration': 7956, 'co2_spotify': 18.564000000000004, 'co2_demat': 0.546, 'co2_cd': 167}]\n",
      "['Chaleur humaine', {'mbid': '084856af-fc83-43a3-ac0a-3766bc4c8a84', 'artiste': 'Christine and the Queens', 'tracks': {'Nuit 17 à 52': {'nb_ecoute': 1, 'duration': 262}}, 'image': 'https://lastfm.freetls.fastly.net/i/u/300x300/b1f52e17bfed44b6c4ee34094415143e.png', 'nb_ecoute_tot': 1, 'nb_ecoute_unique': 1, 'nb_tracks': 11, 'album_duration': 2573, 'ecoute_duration': 262, 'co2_spotify': 0.6113333333333334, 'co2_demat': 6.003666666666667, 'co2_cd': 167}]\n",
      "['Yuri', {'mbid': '4f9199a6-6341-41a6-9db8-dec5899a2b4d', 'artiste': 'Dosseh', 'tracks': {'Infréquentables': {'nb_ecoute': 2, 'duration': 277}}, 'image': 'https://lastfm.freetls.fastly.net/i/u/300x300/432045bced52d8d031f2a8548fd188b9.png', 'nb_ecoute_tot': 2, 'nb_ecoute_unique': 1, 'nb_tracks': 14, 'album_duration': 3556, 'ecoute_duration': 554, 'co2_spotify': 1.2926666666666666, 'co2_demat': 8.297333333333334, 'co2_cd': 167}]\n",
      "['UNRENDERED', {'mbid': '4be1882b-e036-4cdd-ac7d-b18d5e02d7b0', 'artiste': 'Bones', 'tracks': {'CtrlAltDelete': {'nb_ecoute': 1, 'duration': 178}}, 'image': 'https://lastfm.freetls.fastly.net/i/u/300x300/232cfbbc0c4d7013501ea4a4b2c93048.jpg', 'nb_ecoute_tot': 1, 'nb_ecoute_unique': 1, 'nb_tracks': 18, 'album_duration': 2403, 'ecoute_duration': 178, 'co2_spotify': 0.4153333333333334, 'co2_demat': 5.607, 'co2_cd': 167}]\n",
      "['The Two of Us Are Dying', {'mbid': '11d8a49d-c9d8-488b-8b87-965c1c3aa4e4', 'artiste': 'Killstation', 'tracks': {'SARCOMA': {'nb_ecoute': 1, 'duration': 134}}, 'image': 'https://lastfm.freetls.fastly.net/i/u/300x300/39827a268553001ff109ec3e4d1eadea.jpg', 'nb_ecoute_tot': 1, 'nb_ecoute_unique': 1, 'nb_tracks': 22, 'album_duration': 2899, 'ecoute_duration': 134, 'co2_spotify': 0.3126666666666667, 'co2_demat': 6.764333333333334, 'co2_cd': 167}]\n",
      "['Spotlight', {'mbid': '', 'artiste': 'Marshmello', 'tracks': {'Spotlight': {'nb_ecoute': 1, 'duration': 177}}, 'image': 'https://lastfm.freetls.fastly.net/i/u/300x300/430b617f4a78f69cbfcf8ad1e90cc1f9.jpg', 'nb_ecoute_tot': 1, 'nb_ecoute_unique': 1, 'nb_tracks': 1, 'album_duration': 177, 'ecoute_duration': 177, 'co2_spotify': 0.41300000000000003, 'co2_demat': 0.41300000000000003, 'co2_cd': 167}]\n",
      "['Elle est bonne sa mère', {'mbid': '', 'artiste': 'Vegedream', 'tracks': {'Elle est bonne sa mère': {'nb_ecoute': 3, 'duration': 199}}, 'image': 'https://lastfm.freetls.fastly.net/i/u/300x300/9e9cd0dd34b9ea41f88b834717501f2f.jpg', 'nb_ecoute_tot': 3, 'nb_ecoute_unique': 1, 'nb_tracks': 1, 'album_duration': 199, 'ecoute_duration': 597, 'co2_spotify': 1.3930000000000002, 'co2_demat': 0.4643333333333334, 'co2_cd': 167}]\n",
      "['GLAIVE', {'mbid': '', 'artiste': 'Booba', 'tracks': {'GLAIVE': {'nb_ecoute': 3, 'duration': 116}}, 'image': 'https://lastfm.freetls.fastly.net/i/u/300x300/598d7b9c471238616ed65bb3c95487a1.jpg', 'nb_ecoute_tot': 3, 'nb_ecoute_unique': 1, 'nb_tracks': 1, 'album_duration': 116, 'ecoute_duration': 348, 'co2_spotify': 0.812, 'co2_demat': 0.2706666666666667, 'co2_cd': 167}]\n",
      "['Destin', {'mbid': 'c71bac06-50d9-4235-8866-c066191568db', 'artiste': 'Ninho', 'tracks': {\"Goutte d'eau\": {'nb_ecoute': 2, 'duration': 157}, 'La vivance (feat. Koba LaD)': {'nb_ecoute': 2, 'duration': 181}}, 'image': 'https://lastfm.freetls.fastly.net/i/u/300x300/44c67eb70de95da3ac92773c0ceca4ba.jpg', 'nb_ecoute_tot': 4, 'nb_ecoute_unique': 2, 'nb_tracks': 18, 'album_duration': 3404, 'ecoute_duration': 676, 'co2_spotify': 1.5773333333333335, 'co2_demat': 7.942666666666668, 'co2_cd': 167}]\n",
      "[\"Période d'essai\", {'mbid': 'a13acbf7-ea1e-4f5d-97cd-c13677ad3e2e', 'artiste': 'kobo', 'tracks': {'Baltimore': {'nb_ecoute': 1, 'duration': 258}}, 'image': 'https://lastfm.freetls.fastly.net/i/u/300x300/f1313240e42507a2bd06ffaec654b07f.jpg', 'nb_ecoute_tot': 1, 'nb_ecoute_unique': 1, 'nb_tracks': 17, 'album_duration': 3428, 'ecoute_duration': 258, 'co2_spotify': 0.6020000000000001, 'co2_demat': 7.998666666666668, 'co2_cd': 167}]\n",
      "['Jeannine', {'mbid': '7f256ac8-e81d-4d4f-8880-2cdf7b5e9126', 'artiste': 'Lomepal', 'tracks': {'Dave Grohl': {'nb_ecoute': 3, 'duration': 214}}, 'image': 'https://lastfm.freetls.fastly.net/i/u/300x300/0ff6dfbe47a34ce650c932094b9c1ff9.jpg', 'nb_ecoute_tot': 3, 'nb_ecoute_unique': 1, 'nb_tracks': 17, 'album_duration': 3143, 'ecoute_duration': 642, 'co2_spotify': 1.4980000000000002, 'co2_demat': 7.333666666666668, 'co2_cd': 167}]\n",
      "['lovely (with Khalid)', {'mbid': '', 'artiste': 'Billie Eilish', 'tracks': {'lovely (with Khalid)': {'nb_ecoute': 36, 'duration': 200}}, 'image': 'https://lastfm.freetls.fastly.net/i/u/300x300/d14b594f15b5629a3ba686cab2c95f83.jpg', 'nb_ecoute_tot': 36, 'nb_ecoute_unique': 1, 'nb_tracks': 1, 'album_duration': 200, 'ecoute_duration': 7200, 'co2_spotify': 16.8, 'co2_demat': 0.46666666666666673, 'co2_cd': 167}]\n",
      "['Brol La Suite', {'mbid': '', 'artiste': 'Angèle', 'tracks': {'La Loi de Murphy': {'nb_ecoute': 1, 'duration': 193}, 'Tout Oublier': {'nb_ecoute': 1, 'duration': 200}, 'Jalousie': {'nb_ecoute': 1, 'duration': 225}, 'Balance ton quoi': {'nb_ecoute': 1, 'duration': 189}, 'La Thune': {'nb_ecoute': 1, 'duration': 202}, 'Ta reine - Version orchestrale': {'nb_ecoute': 1, 'duration': 0}, 'Que du love': {'nb_ecoute': 1, 'duration': 152}, \"J'entends\": {'nb_ecoute': 1, 'duration': 216}, 'Tu me regardes': {'nb_ecoute': 1, 'duration': 192}, 'Insomnies': {'nb_ecoute': 1, 'duration': 212}, 'Oui ou non': {'nb_ecoute': 1, 'duration': 196}, 'Perdus': {'nb_ecoute': 1, 'duration': 183}}, 'image': 'https://lastfm.freetls.fastly.net/i/u/300x300/488c545fab4bf03c33e64126fc3598ed.jpg', 'nb_ecoute_tot': 12, 'nb_ecoute_unique': 12, 'nb_tracks': 19, 'album_duration': 3812, 'ecoute_duration': 2160, 'co2_spotify': 5.040000000000001, 'co2_demat': 8.894666666666668, 'co2_cd': 167}]\n",
      "['Adieu bientôt', {'mbid': 'b7e6aec1-9305-4d35-9762-5ddc46876f6f', 'artiste': 'Columbine', 'tracks': {'Adieu bientôt': {'nb_ecoute': 1, 'duration': 211}, 'Le bal des fous': {'nb_ecoute': 1, 'duration': 146}}, 'image': 'https://lastfm.freetls.fastly.net/i/u/300x300/be1fd6afecd9f37dacc82591a81fd355.jpg', 'nb_ecoute_tot': 2, 'nb_ecoute_unique': 2, 'nb_tracks': 20, 'album_duration': 4130, 'ecoute_duration': 357, 'co2_spotify': 0.8330000000000001, 'co2_demat': 9.636666666666667, 'co2_cd': 167}]\n",
      "['3 du mat', {'mbid': '043fa19e-4505-41fb-91aa-f8a0af35dadf', 'artiste': 'Lefa', 'tracks': {'Paradise': {'nb_ecoute': 1, 'duration': 157}}, 'image': 'https://lastfm.freetls.fastly.net/i/u/300x300/fa4226a678523efea1556f7a3a52cf69.jpg', 'nb_ecoute_tot': 1, 'nb_ecoute_unique': 1, 'nb_tracks': 15, 'album_duration': 2499, 'ecoute_duration': 157, 'co2_spotify': 0.36633333333333334, 'co2_demat': 5.831, 'co2_cd': 167}]\n",
      "['Southside', {'mbid': '8e081502-cc72-4ac5-8a0b-3462d88c0d9d', 'artiste': 'Oboy', 'tracks': {'Nuit': {'nb_ecoute': 1, 'duration': 223}}, 'image': 'https://lastfm.freetls.fastly.net/i/u/300x300/f94ada97eff80421ab894b6f35b787f4.png', 'nb_ecoute_tot': 1, 'nb_ecoute_unique': 1, 'nb_tracks': 8, 'album_duration': 1424, 'ecoute_duration': 223, 'co2_spotify': 0.5203333333333334, 'co2_demat': 3.322666666666667, 'co2_cd': 167}]\n",
      "['Dancehall', {'mbid': '8e276da6-b5b6-4c07-a212-fdeb9de891e4', 'artiste': 'The Blaze', 'tracks': {'She': {'nb_ecoute': 1, 'duration': 218}}, 'image': 'https://lastfm.freetls.fastly.net/i/u/300x300/e29bc6a36903e89c01fb2b2e34802108.jpg', 'nb_ecoute_tot': 1, 'nb_ecoute_unique': 1, 'nb_tracks': 10, 'album_duration': 2284, 'ecoute_duration': 218, 'co2_spotify': 0.5086666666666667, 'co2_demat': 5.329333333333334, 'co2_cd': 167}]\n",
      "['Panthéon', {'mbid': '067d878d-5f25-4cce-8979-428fceed196b', 'artiste': 'Booba', 'tracks': {'La Faucheuse': {'nb_ecoute': 2, 'duration': 280}}, 'image': 'https://lastfm.freetls.fastly.net/i/u/300x300/4e75fb8973df44b780de4453107c1e25.jpg', 'nb_ecoute_tot': 2, 'nb_ecoute_unique': 1, 'nb_tracks': 13, 'album_duration': 3083, 'ecoute_duration': 560, 'co2_spotify': 1.3066666666666669, 'co2_demat': 7.193666666666668, 'co2_cd': 167}]\n",
      "['Projet Blue Beam', {'mbid': '1e6141d3-35ec-481f-b052-a6669714d262', 'artiste': 'Freeze Corleone', 'tracks': {'Intro': {'nb_ecoute': 1, 'duration': 214}}, 'image': 'https://lastfm.freetls.fastly.net/i/u/300x300/ee8e2488efcc8e6a7beef9426a37f11e.jpg', 'nb_ecoute_tot': 1, 'nb_ecoute_unique': 1, 'nb_tracks': 11, 'album_duration': 2384, 'ecoute_duration': 214, 'co2_spotify': 0.4993333333333334, 'co2_demat': 5.562666666666668, 'co2_cd': 167}]\n",
      "['Divergence', {'mbid': '1d1eb190-5ef5-48aa-a2a5-616c92e3da28', 'artiste': 'D.A.V', 'tracks': {'ParoVie (feat. Damso)': {'nb_ecoute': 1, 'duration': 237}}, 'image': 'https://lastfm.freetls.fastly.net/i/u/300x300/8770b74f112bbde9c681c1e14978c758.jpg', 'nb_ecoute_tot': 1, 'nb_ecoute_unique': 1, 'nb_tracks': 15, 'album_duration': 2436, 'ecoute_duration': 237, 'co2_spotify': 0.553, 'co2_demat': 5.684, 'co2_cd': 167}]\n",
      "['Nowhere to Run', {'mbid': '', 'artiste': 'BRENNAN SAVAGE', 'tracks': {'Nowhere to Run': {'nb_ecoute': 1, 'duration': 184}}, 'image': 'https://lastfm.freetls.fastly.net/i/u/300x300/a3f1596c9854d36b21f86e14e50a1648.jpg', 'nb_ecoute_tot': 1, 'nb_ecoute_unique': 1, 'nb_tracks': 1, 'album_duration': 184, 'ecoute_duration': 184, 'co2_spotify': 0.42933333333333334, 'co2_demat': 0.42933333333333334, 'co2_cd': 167}]\n",
      "['Diavolana', {'mbid': 'd024c89f-7d7c-4aba-b075-862f8f6f3adf', 'artiste': 'Tsew The Kid', 'tracks': {'Partir loin': {'nb_ecoute': 1, 'duration': 181}}, 'image': 'https://lastfm.freetls.fastly.net/i/u/300x300/d2c0994a793eceebeb4a8727778da28a.jpg', 'nb_ecoute_tot': 1, 'nb_ecoute_unique': 1, 'nb_tracks': 15, 'album_duration': 2773, 'ecoute_duration': 181, 'co2_spotify': 0.4223333333333334, 'co2_demat': 6.4703333333333335, 'co2_cd': 167}]\n",
      "['Nous', {'mbid': '8fde264e-0779-4228-96ff-4f498e95540b', 'artiste': 'Tsew The Kid', 'tracks': {'Quand on danse': {'nb_ecoute': 1, 'duration': 162}, 'Otage': {'nb_ecoute': 1, 'duration': 154}}, 'image': 'https://lastfm.freetls.fastly.net/i/u/300x300/016f2974432e7b7d884330bd0a3f2899.jpg', 'nb_ecoute_tot': 2, 'nb_ecoute_unique': 2, 'nb_tracks': 6, 'album_duration': 1082, 'ecoute_duration': 316, 'co2_spotify': 0.7373333333333334, 'co2_demat': 2.524666666666667, 'co2_cd': 167}]\n",
      "['Cigarette', {'mbid': '', 'artiste': 'Tsew The Kid', 'tracks': {'Cigarette': {'nb_ecoute': 1, 'duration': 161}}, 'image': 'https://lastfm.freetls.fastly.net/i/u/300x300/3f0b134472830fd6f5bbf3414244da64.jpg', 'nb_ecoute_tot': 1, 'nb_ecoute_unique': 1, 'nb_tracks': 1, 'album_duration': 161, 'ecoute_duration': 161, 'co2_spotify': 0.3756666666666667, 'co2_demat': 0.3756666666666667, 'co2_cd': 167}]\n",
      "['Blanc au Noir', {'mbid': '59946395-5a29-4ffb-961d-acf51969fcb2', 'artiste': 'Klem Schen', 'tracks': {'Peaky Blinders': {'nb_ecoute': 2, 'duration': 151}}, 'image': 'https://lastfm.freetls.fastly.net/i/u/300x300/2a96cbd8b46e442fc41c2b86b821562f.png', 'nb_ecoute_tot': 2, 'nb_ecoute_unique': 1, 'nb_tracks': 17, 'album_duration': 2085, 'ecoute_duration': 302, 'co2_spotify': 0.7046666666666667, 'co2_demat': 4.865, 'co2_cd': 167}]\n",
      "['Mora Mora', {'mbid': '6f08fca3-63fd-471f-84a2-c0729f317c59', 'artiste': 'Tsew The Kid', 'tracks': {'Freestyle de type feu': {'nb_ecoute': 1, 'duration': 169}}, 'image': 'https://lastfm.freetls.fastly.net/i/u/300x300/dde6658a38fd8e83f6b0ee0fc44d9fff.jpg', 'nb_ecoute_tot': 1, 'nb_ecoute_unique': 1, 'nb_tracks': 6, 'album_duration': 1101, 'ecoute_duration': 169, 'co2_spotify': 0.39433333333333337, 'co2_demat': 2.5690000000000004, 'co2_cd': 167}]\n",
      "['Peregrinus', {'mbid': '2cc92d06-51c0-47ed-a3b1-b1bbb924e113', 'artiste': 'Seizur', 'tracks': {\"S'aimer en enfer\": {'nb_ecoute': 1, 'duration': 198}}, 'image': 'https://lastfm.freetls.fastly.net/i/u/300x300/2a96cbd8b46e442fc41c2b86b821562f.png', 'nb_ecoute_tot': 1, 'nb_ecoute_unique': 1, 'nb_tracks': 5, 'album_duration': 941, 'ecoute_duration': 198, 'co2_spotify': 0.462, 'co2_demat': 2.195666666666667, 'co2_cd': 167}]\n",
      "['Lueur', {'mbid': 'c8290b1c-c1ac-4a8c-8874-63efd0635dbb', 'artiste': 'Klem Schen', 'tracks': {'Klem': {'nb_ecoute': 1, 'duration': 133}}, 'image': 'https://lastfm.freetls.fastly.net/i/u/300x300/2a96cbd8b46e442fc41c2b86b821562f.png', 'nb_ecoute_tot': 1, 'nb_ecoute_unique': 1, 'nb_tracks': 17, 'album_duration': 2075, 'ecoute_duration': 133, 'co2_spotify': 0.31033333333333335, 'co2_demat': 4.841666666666667, 'co2_cd': 167}]\n",
      "['NQNT33', {'mbid': 'a4720cf2-c6a9-43d4-83c6-2305cf26ce36', 'artiste': 'Vald', 'tracks': {'Rechute': {'nb_ecoute': 1, 'duration': 200}}, 'image': 'https://lastfm.freetls.fastly.net/i/u/300x300/1f7a8bc743b70ffa62675a699a2ba925.jpg', 'nb_ecoute_tot': 1, 'nb_ecoute_unique': 1, 'nb_tracks': 18, 'album_duration': 3211, 'ecoute_duration': 200, 'co2_spotify': 0.46666666666666673, 'co2_demat': 7.492333333333334, 'co2_cd': 167}]\n",
      "['Alph Lauren 2', {'mbid': 'bcf01a7c-748f-482f-b059-d0208d6854cb', 'artiste': 'Alpha Wann', 'tracks': {'Vortex': {'nb_ecoute': 1, 'duration': 210}}, 'image': 'https://lastfm.freetls.fastly.net/i/u/300x300/c521d4943660fd8583711544f17608c2.jpg', 'nb_ecoute_tot': 1, 'nb_ecoute_unique': 1, 'nb_tracks': 8, 'album_duration': 2105, 'ecoute_duration': 210, 'co2_spotify': 0.49000000000000005, 'co2_demat': 4.911666666666667, 'co2_cd': 167}]\n",
      "['Alph Lauren', {'mbid': '02401d65-49d0-43af-8993-782e0e944f98', 'artiste': 'Alpha Wann', 'tracks': {'Flingtro': {'nb_ecoute': 2, 'duration': 142}, \"Parle moi de benef'\": {'nb_ecoute': 2, 'duration': 168}, 'Steven Seagal': {'nb_ecoute': 1, 'duration': 169}}, 'image': 'https://lastfm.freetls.fastly.net/i/u/300x300/53eafea24c2447e3c71a7340a641081e.jpg', 'nb_ecoute_tot': 5, 'nb_ecoute_unique': 3, 'nb_tracks': 8, 'album_duration': 1579, 'ecoute_duration': 789, 'co2_spotify': 1.8410000000000002, 'co2_demat': 3.684333333333334, 'co2_cd': 167}]\n",
      "['Amina', {'mbid': '39193846-31eb-4edc-ac98-dba8e7ff7c1a', 'artiste': 'Lomepal', 'tracks': {'Montfermeil': {'nb_ecoute': 7, 'duration': 169}}, 'image': 'https://lastfm.freetls.fastly.net/i/u/300x300/50d336fd5f393795e90538ffb78049c9.jpg', 'nb_ecoute_tot': 7, 'nb_ecoute_unique': 1, 'nb_tracks': 29, 'album_duration': 5622, 'ecoute_duration': 1183, 'co2_spotify': 2.7603333333333335, 'co2_demat': 13.118, 'co2_cd': 167}]\n",
      "[\"UNE MAIN LAVE L'AUTRE\", {'mbid': '88e95ea5-b609-4f8b-b0cb-69896eef2f47', 'artiste': 'Alpha Wann', 'tracks': {'ÇA VA ENSEMBLE': {'nb_ecoute': 1, 'duration': 418}, \"UNE MAIN LAVE L'AUTRE\": {'nb_ecoute': 1, 'duration': 182}}, 'image': 'https://lastfm.freetls.fastly.net/i/u/300x300/2c9e7319fe05fe654807e0a02362b57d.jpg', 'nb_ecoute_tot': 2, 'nb_ecoute_unique': 2, 'nb_tracks': 17, 'album_duration': 3524, 'ecoute_duration': 600, 'co2_spotify': 1.4000000000000001, 'co2_demat': 8.222666666666667, 'co2_cd': 167}]\n",
      "['J.O.$', {'mbid': '35c0d14d-75e9-446d-aaee-d5d18e1e676b', 'artiste': 'Josman', 'tracks': {'XS': {'nb_ecoute': 1, 'duration': 206}}, 'image': 'https://lastfm.freetls.fastly.net/i/u/300x300/a81d4904dd1a81fc98731494e288bfe5.jpg', 'nb_ecoute_tot': 1, 'nb_ecoute_unique': 1, 'nb_tracks': 16, 'album_duration': 3354, 'ecoute_duration': 206, 'co2_spotify': 0.48066666666666674, 'co2_demat': 7.826000000000001, 'co2_cd': 167}]\n",
      "[\"Jok'Travolta\", {'mbid': '898aa2f3-3c06-47ed-9205-269475c7f6a9', 'artiste': \"Jok'Air\", 'tracks': {'Club des 27': {'nb_ecoute': 1, 'duration': 217}}, 'image': 'https://lastfm.freetls.fastly.net/i/u/300x300/efa53c8ab3464f278f3286798b6b45db.jpg', 'nb_ecoute_tot': 1, 'nb_ecoute_unique': 1, 'nb_tracks': 18, 'album_duration': 4781, 'ecoute_duration': 217, 'co2_spotify': 0.5063333333333334, 'co2_demat': 11.155666666666667, 'co2_cd': 167}]\n",
      "['FLIP (Deluxe)', {'mbid': 'dd1baf66-a90c-4a1b-bebe-c3568f4192b1', 'artiste': 'Lomepal', 'tracks': {'Un peu de sang': {'nb_ecoute': 2, 'duration': 304}}, 'image': 'https://lastfm.freetls.fastly.net/i/u/300x300/3d4b1fc6b4bbb93a0777925d650d7f33.jpg', 'nb_ecoute_tot': 2, 'nb_ecoute_unique': 1, 'nb_tracks': 27, 'album_duration': 6871, 'ecoute_duration': 608, 'co2_spotify': 1.4186666666666667, 'co2_demat': 16.032333333333334, 'co2_cd': 167}]\n",
      "['ODSL', {'mbid': 'bc00ab80-18a9-4b7e-b2b3-0e6caa06fb94', 'artiste': 'Lomepal', 'tracks': {'Oyasumi': {'nb_ecoute': 1, 'duration': 289}}, 'image': 'https://lastfm.freetls.fastly.net/i/u/300x300/0359b8c247213e53c4ac8eb633db95b8.jpg', 'nb_ecoute_tot': 1, 'nb_ecoute_unique': 1, 'nb_tracks': 6, 'album_duration': 1384, 'ecoute_duration': 289, 'co2_spotify': 0.6743333333333333, 'co2_demat': 3.229333333333334, 'co2_cd': 167}]\n",
      "['Alph Lauren 3', {'mbid': 'bb41a88a-6af4-486d-93e8-0790dacc9fbf', 'artiste': 'Alpha Wann', 'tracks': {'Louvre': {'nb_ecoute': 2, 'duration': 131}}, 'image': 'https://lastfm.freetls.fastly.net/i/u/300x300/de0f51b75fb62542034141e77a69db1d.jpg', 'nb_ecoute_tot': 2, 'nb_ecoute_unique': 1, 'nb_tracks': 8, 'album_duration': 1413, 'ecoute_duration': 262, 'co2_spotify': 0.6113333333333334, 'co2_demat': 3.297, 'co2_cd': 167}]\n",
      "['PPP', {'mbid': '4522e404-3169-46e4-92d2-a17ca7a5956a', 'artiste': 'Alpha Wann', 'tracks': {'PISTOLET ROSE 2': {'nb_ecoute': 2, 'duration': 97}}, 'image': 'https://lastfm.freetls.fastly.net/i/u/300x300/291b2ef5a4ab59757fdc3a817e55c79a.jpg', 'nb_ecoute_tot': 2, 'nb_ecoute_unique': 1, 'nb_tracks': 3, 'album_duration': 407, 'ecoute_duration': 194, 'co2_spotify': 0.4526666666666667, 'co2_demat': 0.9496666666666668, 'co2_cd': 167}]\n",
      "['BALLADS 1', {'mbid': '8137ca0f-123a-4800-8b28-f1f3be6c938d', 'artiste': 'Joji', 'tracks': {'NO FUN': {'nb_ecoute': 1, 'duration': 168}, 'Slow dancing in the dark': {'nb_ecoute': 4, 'duration': 209}}, 'image': 'https://lastfm.freetls.fastly.net/i/u/300x300/fe2362c4fa990ffa1d57a95e1a446ac3.jpg', 'nb_ecoute_tot': 5, 'nb_ecoute_unique': 2, 'nb_tracks': 11, 'album_duration': 1907, 'ecoute_duration': 1004, 'co2_spotify': 2.3426666666666667, 'co2_demat': 4.449666666666667, 'co2_cd': 167}]\n",
      "[\"L' Affranchi\", {'mbid': '', 'artiste': 'Koba LaD', 'tracks': {'RR 9.1': {'nb_ecoute': 1, 'duration': 200}}, 'image': 'https://lastfm.freetls.fastly.net/i/u/300x300/9744d0d8a0d29a59cec173d5685588c0.jpg', 'nb_ecoute_tot': 1, 'nb_ecoute_unique': 1, 'nb_tracks': 15, 'album_duration': 2911, 'ecoute_duration': 200, 'co2_spotify': 0.46666666666666673, 'co2_demat': 6.792333333333334, 'co2_cd': 167}]\n",
      "['everything i wanted', {'mbid': '19a54c1f-07af-48db-8990-62a2208e18d4', 'artiste': 'Billie Eilish', 'tracks': {'Everything I Wanted': {'nb_ecoute': 20, 'duration': 245}}, 'image': 'https://lastfm.freetls.fastly.net/i/u/300x300/23ff44b6c1b5c3b2ba6d11684493004a.jpg', 'nb_ecoute_tot': 20, 'nb_ecoute_unique': 1, 'nb_tracks': 1, 'album_duration': 245, 'ecoute_duration': 4900, 'co2_spotify': 11.433333333333335, 'co2_demat': 0.5716666666666668, 'co2_cd': 167}]\n",
      "['Ténébreux', {'mbid': '6aea88cf-d3a5-4367-8215-5554f7226c32', 'artiste': 'Koba LaD', 'tracks': {'Ténébreux #4': {'nb_ecoute': 1, 'duration': 199}, 'Ténébreux #3': {'nb_ecoute': 1, 'duration': 158}, 'Ténébreux #2': {'nb_ecoute': 1, 'duration': 135}, 'Ténébreux #1': {'nb_ecoute': 3, 'duration': 145}}, 'image': 'https://lastfm.freetls.fastly.net/i/u/300x300/b1c5f8194c03e8695b4a0b392c4d3b28.jpg', 'nb_ecoute_tot': 6, 'nb_ecoute_unique': 4, 'nb_tracks': 6, 'album_duration': 1033, 'ecoute_duration': 927, 'co2_spotify': 2.163, 'co2_demat': 2.4103333333333334, 'co2_cd': 167}]\n",
      "['Broken Kids Club', {'mbid': 'a4a6f957-e6c1-40dc-9896-9e93c47b0549', 'artiste': 'CRAIG XEN', 'tracks': {'Run It Back!': {'nb_ecoute': 1, 'duration': 126}}, 'image': 'https://lastfm.freetls.fastly.net/i/u/300x300/e3e34093146e573acef94f0d75c3227a.jpg', 'nb_ecoute_tot': 1, 'nb_ecoute_unique': 1, 'nb_tracks': 7, 'album_duration': 911, 'ecoute_duration': 126, 'co2_spotify': 0.294, 'co2_demat': 2.1256666666666666, 'co2_cd': 167}]\n",
      "[\"I'll Keep You Safe\", {'mbid': '', 'artiste': 'SAGUN', 'tracks': {\"I'll Keep You Safe\": {'nb_ecoute': 1, 'duration': 128}}, 'image': 'https://lastfm.freetls.fastly.net/i/u/300x300/4a3028ece1d464eb559b754c5615c0ce.jpg', 'nb_ecoute_tot': 1, 'nb_ecoute_unique': 1, 'nb_tracks': 1, 'album_duration': 128, 'ecoute_duration': 128, 'co2_spotify': 0.2986666666666667, 'co2_demat': 0.2986666666666667, 'co2_cd': 167}]\n"
     ]
    }
   ],
   "source": [
    "#on change le dico en liste\n",
    "dictlist = []\n",
    "i = 0\n",
    "for key, value in album.items():\n",
    "    temp = [key,value]\n",
    "    dictlist.append(temp)\n",
    "    print(dictlist[i])\n",
    "    i+=1"
   ]
  },
  {
   "cell_type": "code",
   "execution_count": 27,
   "metadata": {},
   "outputs": [],
   "source": [
    "album_json = json.dumps(dictlist)\n",
    "\n",
    "f = open(username+\"_processed.json\", \"w+\")\n",
    "f.write(album_json)\n",
    "f.close()"
   ]
  },
  {
   "cell_type": "code",
   "execution_count": null,
   "metadata": {},
   "outputs": [],
   "source": []
  }
 ],
 "metadata": {
  "kernelspec": {
   "display_name": "Python 3",
   "language": "python",
   "name": "python3"
  },
  "language_info": {
   "codemirror_mode": {
    "name": "ipython",
    "version": 3
   },
   "file_extension": ".py",
   "mimetype": "text/x-python",
   "name": "python",
   "nbconvert_exporter": "python",
   "pygments_lexer": "ipython3",
   "version": "3.7.5"
  }
 },
 "nbformat": 4,
 "nbformat_minor": 2
}
